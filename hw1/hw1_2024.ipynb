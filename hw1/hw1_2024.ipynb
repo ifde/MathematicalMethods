{
  "cells": [
    {
      "cell_type": "markdown",
      "metadata": {
        "id": "tWSFI7tW0V9r"
      },
      "source": [
        "# HSE 2024: Mathematical Methods for Data Analysis\n",
        "\n",
        "## Homework 1"
      ]
    },
    {
      "cell_type": "markdown",
      "metadata": {
        "id": "bxaUMlci0V9u"
      },
      "source": [
        "### Attention!\n",
        "* For tasks where <ins>text answer</ins> is required **Russian language** is **allowed**.\n",
        "* If a task asks you to describe something (make coclusions) then **text answer** is **mandatory** and **is** part of the task\n",
        "* **Do not** upload the dataset (titanic.csv) to the grading system (we already have it)\n",
        "* We **only** accept **ipynb** notebooks. If you use Google Colab then you'll have to download the notebook before passing the homework\n",
        "* **Do not** use python loops instead of NumPy vector operations over NumPy vectors - it significantly decreases performance (see why https://blog.paperspace.com/numpy-optimization-vectorization-and-broadcasting/), will be punished with -0.25 for **every** task.\n",
        "Loops are only allowed in part 1 (Tasks 1 - 4).\n",
        "* Some tasks contain tests. They only test you solution on a simple example, thus, passing the test does **not** guarantee you the full grade for the task."
      ]
    },
    {
      "cell_type": "code",
      "execution_count": 2,
      "metadata": {
        "id": "bdHnhzRe0V9u"
      },
      "outputs": [],
      "source": [
        "%matplotlib inline\n",
        "import numpy as np\n",
        "import pandas as pd\n",
        "import matplotlib.pyplot as plt\n",
        "import seaborn as sns"
      ]
    },
    {
      "cell_type": "markdown",
      "metadata": {
        "id": "Ya09hbkZ0V9v"
      },
      "source": [
        "# 1. Python (2 points)"
      ]
    },
    {
      "cell_type": "markdown",
      "metadata": {
        "id": "XZCWYbZu0V9v"
      },
      "source": [
        "**Task 1** (0.5 points)<br/>\n",
        "Enter nonzero numbers `a`,  `r` and `N`. Find the first `N` members of geometric progression with the first member `a` and factor `r`, without using formula for the product."
      ]
    },
    {
      "cell_type": "code",
      "execution_count": 1,
      "metadata": {
        "colab": {
          "base_uri": "https://localhost:8080/"
        },
        "id": "GogBE82x0V9w",
        "outputId": "8e98e4c3-a80e-4111-ef86-273192ddcf68"
      },
      "outputs": [
        {
          "output_type": "stream",
          "name": "stdout",
          "text": [
            "[2, 6, 18]\n"
          ]
        }
      ],
      "source": [
        "def find_product(a,r,N):\n",
        "    arr_product = [a]\n",
        "    for i in range(N - 1):\n",
        "      arr_product.append(arr_product[-1] * r)\n",
        "    return arr_product\n",
        "\n",
        "a = 2\n",
        "r = 3\n",
        "N = 3\n",
        "print(find_product(a,r,N))"
      ]
    },
    {
      "cell_type": "markdown",
      "metadata": {
        "id": "WPtgUo370V9w"
      },
      "source": [
        "**Task 2** (0.5 points) <br/>\n",
        "Enter an integer number `N`. Check if it is a palindrome number. It means that it can be read equally from left to right and from right to back."
      ]
    },
    {
      "cell_type": "code",
      "execution_count": 3,
      "metadata": {
        "colab": {
          "base_uri": "https://localhost:8080/"
        },
        "id": "JatzYDRw0V9w",
        "outputId": "55eb0feb-5c15-4e68-b561-7ea6a90a82d4"
      },
      "outputs": [
        {
          "output_type": "stream",
          "name": "stdout",
          "text": [
            "3 True\n",
            "81 False\n",
            "111 True\n",
            "113 False\n",
            "810 False\n",
            "2022 False\n",
            "4774 True\n",
            "51315 True\n",
            "611816 False\n"
          ]
        }
      ],
      "source": [
        "def check_palindrome(N):\n",
        "    s1 = str(N)\n",
        "    s2 = s1[::-1]\n",
        "    return s1 ==s2\n",
        "\n",
        "for N in [3, 81, 111, 113, 810, 2022, 4774, 51315, 611816]:\n",
        "    print(N, check_palindrome(N))"
      ]
    },
    {
      "cell_type": "markdown",
      "metadata": {
        "id": "Xf8jQfEv0V9w"
      },
      "source": [
        "**Task 3** (0.5 points) <br/>\n",
        "Find the first `N` palindrome numbers starting from 1000 (you may use the function from the precious task)."
      ]
    },
    {
      "cell_type": "code",
      "execution_count": 5,
      "metadata": {
        "colab": {
          "base_uri": "https://localhost:8080/"
        },
        "id": "BB_ASHw00V9x",
        "outputId": "f5d651ed-ad2d-4056-c3d1-0ec926cee359"
      },
      "outputs": [
        {
          "output_type": "stream",
          "name": "stdout",
          "text": [
            "[1001, 1111, 1221, 1331, 1441]\n",
            "[1001, 1111, 1221, 1331, 1441, 1551, 1661, 1771, 1881, 1991]\n",
            "[1001, 1111, 1221, 1331, 1441, 1551, 1661, 1771, 1881, 1991, 2002, 2112, 2222, 2332, 2442, 2552, 2662, 2772, 2882, 2992]\n"
          ]
        }
      ],
      "source": [
        "def find_palindromes(N):\n",
        "    a = 1000\n",
        "    palindromes = []\n",
        "    while len(palindromes) < N:\n",
        "      if check_palindrome(a):\n",
        "        palindromes.append(a)\n",
        "      a += 1\n",
        "    return palindromes\n",
        "\n",
        "print(find_palindromes(5))\n",
        "print(find_palindromes(10))\n",
        "print(find_palindromes(20))"
      ]
    },
    {
      "cell_type": "markdown",
      "metadata": {
        "id": "DPUefGp30V9x"
      },
      "source": [
        "**Task 4** (0.5 points) <br/>\n",
        "There are numbers: `a`, `b`, `c`. Without using functions `min`, `max` and other functions, find the minimum number."
      ]
    },
    {
      "cell_type": "code",
      "execution_count": 6,
      "metadata": {
        "colab": {
          "base_uri": "https://localhost:8080/"
        },
        "id": "8pvhh0F20V9x",
        "outputId": "7ed272c8-7c92-4490-a450-97962cf90cdf"
      },
      "outputs": [
        {
          "output_type": "stream",
          "name": "stdout",
          "text": [
            "71 -75 -99 \tMinimum: -99\n",
            "18 70 42 \tMinimum: 18\n",
            "15 20 -85 \tMinimum: -85\n",
            "-82 -61 -8 \tMinimum: -82\n",
            "18 -6 -2 \tMinimum: -6\n",
            "84 -38 -86 \tMinimum: -86\n",
            "-20 -85 13 \tMinimum: -85\n",
            "89 36 -7 \tMinimum: -7\n",
            "54 -50 48 \tMinimum: -50\n",
            "25 -16 75 \tMinimum: -16\n"
          ]
        }
      ],
      "source": [
        "from random import randint\n",
        "def find_min(a, b, c):\n",
        "    min_ = a\n",
        "    if (min_ > b):\n",
        "      min_ = b\n",
        "    if (min_ > c):\n",
        "      min_ = c\n",
        "    return min_\n",
        "\n",
        "for i in range(10):\n",
        "\n",
        "    a = randint(-100, 100)\n",
        "    b = randint(-100, 100)\n",
        "    c = randint(-100, 100)\n",
        "\n",
        "    print(a, b, c, '\\tMinimum:', find_min(a, b, c))"
      ]
    },
    {
      "cell_type": "markdown",
      "metadata": {
        "id": "RhfxFVJJ0V9x"
      },
      "source": [
        "# 2. Numpy (4 points)"
      ]
    },
    {
      "cell_type": "markdown",
      "metadata": {
        "id": "HEYZ012Y0V9x"
      },
      "source": [
        "**Task 1** (0.5 points) <br/>\n",
        "Create a random array (`np.random.rand()`) with length of 17 and with sum of its elements equals to 6."
      ]
    },
    {
      "cell_type": "code",
      "execution_count": 12,
      "metadata": {
        "colab": {
          "base_uri": "https://localhost:8080/"
        },
        "id": "ViIwyeWF0V9x",
        "outputId": "dde241e2-b07c-4e0a-91de-fb6b75ae0b97"
      },
      "outputs": [
        {
          "output_type": "stream",
          "name": "stdout",
          "text": [
            "Length: 17\n",
            "Sum of elements: 6.000000000000001\n"
          ]
        }
      ],
      "source": [
        "my_array = np.random.rand(17)\n",
        "my_array = my_array / np.sum(my_array) * 6\n",
        "print(f'Length: {len(my_array)}')\n",
        "print(f'Sum of elements: {np.sum(my_array)}')"
      ]
    },
    {
      "cell_type": "markdown",
      "metadata": {
        "id": "op2ddgQb0V9x"
      },
      "source": [
        "**Task 2** (0.5 points) <br/>\n",
        "Create two random arrays $a$ and $b$ with the same length.\n",
        "\n",
        "Calculate the following distances between the arrays **without using special funcrion. You may only use basic numpy operations (`np.linalg.*` and other high-level ones are prohibited).**:\n",
        "\n",
        "* Manhattan Distance\n",
        "$$ d(a, b) = \\sum_i |a_i - b_i| $$\n",
        "* Euclidean Distance\n",
        "$$ d(a, b) = \\sqrt{\\sum_i (a_i - b_i)^2} $$\n",
        "* Chebyshev Distance\n",
        "$$ d(a, b) = \\underset{i}{max} |a_i - b_i| $$\n",
        "* Cosine Distance\n",
        "$$ d(a, b) = 1 - \\frac{a^\\top b}{||a||_2\\cdot||b||_2} $$\n"
      ]
    },
    {
      "cell_type": "code",
      "execution_count": 15,
      "metadata": {
        "id": "mrJZuzB10V9x"
      },
      "outputs": [],
      "source": [
        "def calculate_manhattan(a, b):\n",
        "    distance = np.sum(np.abs(a - b))\n",
        "    return distance\n",
        "\n",
        "def calculate_euclidean(a, b):\n",
        "    distance = np.sqrt(np.sum((a - b) ** 2))\n",
        "    return distance\n",
        "\n",
        "def calculate_chebyshev(a, b):\n",
        "    distance = np.max(np.abs(a - b))\n",
        "    return distance\n",
        "\n",
        "def calculate_cosine(a, b):\n",
        "    distance = 1 - (a.T).dot(b) / (calculate_euclidean(a, 0) * calculate_euclidean(b, 0))\n",
        "    return distance"
      ]
    },
    {
      "cell_type": "code",
      "execution_count": 20,
      "metadata": {
        "colab": {
          "base_uri": "https://localhost:8080/"
        },
        "id": "G0lfFcxQ0V9y",
        "outputId": "cc6f4014-47b0-4035-941e-5741170b842e"
      },
      "outputs": [
        {
          "output_type": "stream",
          "name": "stdout",
          "text": [
            "Manhattan distance: 252\n",
            "Euclidean distance: 33.34666400106613\n",
            "Chebyshev distance: 8\n",
            "Cosine distance: 0.22420553260701492\n"
          ]
        }
      ],
      "source": [
        "len = np.random.randint(1, 100)\n",
        "a = np.random.randint(1, 10, len)\n",
        "b = np.random.randint(1, 10, len)\n",
        "print(f'Manhattan distance: {calculate_manhattan(a, b)}')\n",
        "print(f'Euclidean distance: {calculate_euclidean(a, b)}')\n",
        "print(f'Chebyshev distance: {calculate_chebyshev(a, b)}')\n",
        "print(f'Cosine distance: {calculate_cosine(a, b)}')"
      ]
    },
    {
      "cell_type": "markdown",
      "metadata": {
        "id": "vmksqMmk0V9y"
      },
      "source": [
        "**Task 3** (0.5 points) <br/>\n",
        "Create a random array (`np.random.randint()`) with length of 76. Transform the array so that\n",
        "* Maximum element(s) value is -1\n",
        "* Minimum element(s) value is -4\n",
        "* Other values are in interval (-4; -1) with keeping the order"
      ]
    },
    {
      "cell_type": "code",
      "execution_count": 23,
      "metadata": {
        "id": "C68hraBb0V9y"
      },
      "outputs": [],
      "source": [
        "def transform(array):\n",
        "    transformed_array = array\n",
        "    min = np.min(transformed_array)\n",
        "    transformed_array = transformed_array + (-min)\n",
        "    max = np.max(transformed_array)\n",
        "    transformed_array = transformed_array / max * 3\n",
        "    transformed_array = transformed_array - 4\n",
        "    return transformed_array"
      ]
    },
    {
      "cell_type": "code",
      "execution_count": 29,
      "metadata": {
        "colab": {
          "base_uri": "https://localhost:8080/"
        },
        "id": "_vozWbIY0V9y",
        "outputId": "2e28726d-6104-4bbc-807b-2be50c7c1074"
      },
      "outputs": [
        {
          "output_type": "stream",
          "name": "stdout",
          "text": [
            "Min: -4.0\n",
            "Max: -1.0\n",
            "Array:\n",
            "[-2.75757576 -2.90909091 -2.04545455 -1.         -3.98484848 -1.3030303\n",
            " -2.86363636 -1.07575758 -2.83333333 -3.5        -3.93939394 -2.16666667\n",
            " -1.74242424 -2.53030303 -2.33333333 -1.40909091 -3.68181818 -3.53030303\n",
            " -1.62121212 -1.09090909 -1.39393939 -2.71212121 -3.74242424 -1.34848485\n",
            " -3.48484848 -3.21212121 -1.40909091 -1.37878788 -1.66666667 -2.1969697\n",
            " -3.         -2.24242424 -1.06060606 -2.1969697  -3.62121212 -2.54545455\n",
            " -3.54545455 -1.81818182 -1.         -2.90909091 -3.98484848 -2.77272727\n",
            " -1.16666667 -1.72727273 -3.65151515 -2.24242424 -1.12121212 -2.36363636\n",
            " -3.60606061 -1.74242424 -2.6969697  -1.18181818 -1.63636364 -2.59090909\n",
            " -3.53030303 -2.33333333 -3.87878788 -1.92424242 -3.92424242 -1.\n",
            " -3.71212121 -3.40909091 -2.81818182 -2.51515152 -4.         -2.74242424\n",
            " -2.65151515 -3.28787879 -1.12121212 -3.75757576 -3.6969697  -3.98484848\n",
            " -2.03030303 -2.81818182 -2.34848485 -3.95454545]\n"
          ]
        }
      ],
      "source": [
        "my_array = np.random.randint(-100, 100, 76)\n",
        "my_array = transform(my_array)\n",
        "print(f'Min: {np.min(my_array)}')\n",
        "print(f'Max: {np.max(my_array)}')\n",
        "print('Array:')\n",
        "print(my_array)"
      ]
    },
    {
      "cell_type": "markdown",
      "metadata": {
        "id": "_uXhWirT0V9y"
      },
      "source": [
        "**Task 4** (0.5 points) <br/>\n",
        "Create an array with shape of $8 \\times 5$ with integers from [-7, 43]. Print a column that contains the maximum element of the array."
      ]
    },
    {
      "cell_type": "code",
      "execution_count": null,
      "metadata": {
        "id": "wwQ5F7Fd0V9y"
      },
      "outputs": [],
      "source": [
        "my_array = ## Your code here\n",
        "selected_column = ## Your code here\n",
        "print('Shape: ', my_array.shape)\n",
        "print('Array:')\n",
        "print(my_array)\n",
        "print(f'Selected column: {selected_column}')"
      ]
    },
    {
      "cell_type": "markdown",
      "metadata": {
        "id": "Rb-tKhTB0V9y"
      },
      "source": [
        "**Task 5** (0.5 points) <br/>\n",
        "\n",
        "Replace all missing values in the following array with median."
      ]
    },
    {
      "cell_type": "code",
      "execution_count": 30,
      "metadata": {
        "colab": {
          "base_uri": "https://localhost:8080/"
        },
        "id": "-ZW1oWAF0V9y",
        "outputId": "98436c8f-bad1-408f-a678-b7c8600f55cd"
      },
      "outputs": [
        {
          "output_type": "stream",
          "name": "stdout",
          "text": [
            "Array:\n",
            "[0.38416403        nan 0.78585972 0.23763117 0.62210816 0.24226571\n",
            " 0.16294417        nan        nan 0.20622584]\n"
          ]
        }
      ],
      "source": [
        "arr = np.random.rand(10)\n",
        "idx = np.random.randint(0, 10, 4)\n",
        "arr[idx] = np.nan\n",
        "\n",
        "print('Array:')\n",
        "print(arr)"
      ]
    },
    {
      "cell_type": "code",
      "execution_count": 33,
      "metadata": {
        "id": "8P-CJZLn0V9y"
      },
      "outputs": [],
      "source": [
        "def replace_missing(arr):\n",
        "    array_without_missing = arr.copy()\n",
        "    mean = np.nanmean(array_without_missing)\n",
        "    array_without_missing[np.isnan(array_without_missing)] = mean\n",
        "    return array_without_missing"
      ]
    },
    {
      "cell_type": "code",
      "execution_count": 34,
      "metadata": {
        "colab": {
          "base_uri": "https://localhost:8080/"
        },
        "id": "hP4N3VoG0V9y",
        "outputId": "0e25dccc-d7b0-4be8-c3de-df37759b3d5c"
      },
      "outputs": [
        {
          "output_type": "stream",
          "name": "stdout",
          "text": [
            "Array with no missing values:\n",
            "[0.38416403 0.37731412 0.78585972 0.23763117 0.62210816 0.24226571\n",
            " 0.16294417 0.37731412 0.37731412 0.20622584]\n"
          ]
        }
      ],
      "source": [
        "arr = replace_missing(arr)\n",
        "print('Array with no missing values:')\n",
        "print(arr)"
      ]
    },
    {
      "cell_type": "markdown",
      "metadata": {
        "id": "ZKzHVEVj0V9y"
      },
      "source": [
        "**Task 6** (0.5 points) <br/>\n",
        "Create a function which takes an image ```X``` (3D array of the shape (n, m, 3)) as an input and returns the mean for all 3 channels (a vector of shape 3)."
      ]
    },
    {
      "cell_type": "code",
      "execution_count": 37,
      "metadata": {
        "id": "hGqBtioW0V9y"
      },
      "outputs": [],
      "source": [
        "def mean_channel(X):\n",
        "    mean_vector = np.mean(X, axis=(0, 1))\n",
        "    return mean_vector"
      ]
    },
    {
      "cell_type": "code",
      "execution_count": 38,
      "metadata": {
        "colab": {
          "base_uri": "https://localhost:8080/"
        },
        "id": "Fsimz7km0V9y",
        "outputId": "0f2ab430-fb78-4610-842a-9398c4c343e2"
      },
      "outputs": [
        {
          "output_type": "stream",
          "name": "stdout",
          "text": [
            "Vector of means: [-1.77803204 -2.08009153 -2.34782609]\n"
          ]
        }
      ],
      "source": [
        "n = 19\n",
        "m = 23\n",
        "X =  np.random.randint(-11, 8, size=(n, m, 3))\n",
        "print(f'Vector of means: {mean_channel(X)}')"
      ]
    },
    {
      "cell_type": "markdown",
      "metadata": {
        "id": "QEBtbM0Z0V9y"
      },
      "source": [
        "### **Task 7** (1 points) <br/>\n",
        "Create a function which takes a 3D matrix ```X``` as an input and returns all its unique vertical (first axis) layers.\n",
        "\n",
        "Sample input:\n",
        "\n",
        "     ([[[1, 2, 3],\n",
        "        [1, 2, 3],\n",
        "        [1, 2, 3]],\n",
        "\n",
        "       [[4, 5, 6],\n",
        "        [4, 5, 7]\n",
        "        [4, 5, 6]],\n",
        "\n",
        "       [[7, 8, 9],\n",
        "        [7, 8, 9]\n",
        "        [7, 8, 9]]])\n",
        "        \n",
        "Sample output:\n",
        "\n",
        "     ([[[1, 2, 3],\n",
        "        [1, 2, 3]],\n",
        "\n",
        "       [[4, 5, 6],\n",
        "        [4, 5, 7]],\n",
        "\n",
        "       [[7, 8, 9],\n",
        "        [7, 8, 9]]])"
      ]
    },
    {
      "cell_type": "code",
      "execution_count": 39,
      "metadata": {
        "id": "ly2KoO5k0V9y"
      },
      "outputs": [],
      "source": [
        "def get_unique_columns(X):\n",
        "    X_unique = np.unique(X, axis=1)\n",
        "    return X_unique"
      ]
    },
    {
      "cell_type": "code",
      "execution_count": 40,
      "metadata": {
        "colab": {
          "base_uri": "https://localhost:8080/"
        },
        "id": "vyG9XR2X0V9z",
        "outputId": "d4e8057a-0d9b-4922-8104-01a74f9b16b4"
      },
      "outputs": [
        {
          "output_type": "stream",
          "name": "stdout",
          "text": [
            "Matrix:\n",
            "[[[5 4 4]\n",
            "  [5 5 5]\n",
            "  [5 4 4]]\n",
            "\n",
            " [[5 5 4]\n",
            "  [4 4 4]\n",
            "  [4 4 5]]\n",
            "\n",
            " [[5 5 4]\n",
            "  [4 5 4]\n",
            "  [4 4 5]]\n",
            "\n",
            " [[4 4 5]\n",
            "  [5 5 5]\n",
            "  [5 5 4]]\n",
            "\n",
            " [[5 5 4]\n",
            "  [5 4 5]\n",
            "  [4 4 5]]\n",
            "\n",
            " [[5 4 5]\n",
            "  [5 5 4]\n",
            "  [4 4 4]]\n",
            "\n",
            " [[4 4 4]\n",
            "  [4 4 4]\n",
            "  [5 5 4]]\n",
            "\n",
            " [[5 4 4]\n",
            "  [4 5 4]\n",
            "  [5 5 5]]\n",
            "\n",
            " [[4 4 5]\n",
            "  [4 4 4]\n",
            "  [4 4 5]]\n",
            "\n",
            " [[4 5 4]\n",
            "  [5 5 4]\n",
            "  [5 5 5]]\n",
            "\n",
            " [[4 5 4]\n",
            "  [5 4 5]\n",
            "  [5 5 4]]\n",
            "\n",
            " [[4 4 4]\n",
            "  [5 5 4]\n",
            "  [4 5 5]]\n",
            "\n",
            " [[5 4 5]\n",
            "  [5 4 4]\n",
            "  [4 4 4]]\n",
            "\n",
            " [[4 4 5]\n",
            "  [4 5 5]\n",
            "  [5 5 5]]\n",
            "\n",
            " [[4 4 4]\n",
            "  [5 5 5]\n",
            "  [5 4 4]]\n",
            "\n",
            " [[5 5 5]\n",
            "  [5 4 4]\n",
            "  [5 5 4]]\n",
            "\n",
            " [[4 5 4]\n",
            "  [4 4 5]\n",
            "  [5 5 4]]\n",
            "\n",
            " [[5 5 5]\n",
            "  [4 4 4]\n",
            "  [5 4 5]]\n",
            "\n",
            " [[4 5 4]\n",
            "  [5 4 4]\n",
            "  [5 5 4]]]\n",
            "Unique columns:\n"
          ]
        },
        {
          "output_type": "execute_result",
          "data": {
            "text/plain": [
              "array([[[5, 4, 4],\n",
              "        [5, 4, 4],\n",
              "        [5, 5, 5]],\n",
              "\n",
              "       [[4, 4, 5],\n",
              "        [5, 5, 4],\n",
              "        [4, 4, 4]],\n",
              "\n",
              "       [[4, 4, 5],\n",
              "        [5, 5, 4],\n",
              "        [4, 5, 4]],\n",
              "\n",
              "       [[5, 5, 4],\n",
              "        [4, 4, 5],\n",
              "        [5, 5, 5]],\n",
              "\n",
              "       [[4, 4, 5],\n",
              "        [5, 5, 4],\n",
              "        [5, 4, 5]],\n",
              "\n",
              "       [[4, 4, 4],\n",
              "        [5, 4, 5],\n",
              "        [5, 5, 4]],\n",
              "\n",
              "       [[5, 5, 4],\n",
              "        [4, 4, 4],\n",
              "        [4, 4, 4]],\n",
              "\n",
              "       [[5, 5, 5],\n",
              "        [5, 4, 4],\n",
              "        [4, 5, 4]],\n",
              "\n",
              "       [[4, 4, 5],\n",
              "        [4, 4, 5],\n",
              "        [4, 4, 4]],\n",
              "\n",
              "       [[5, 5, 5],\n",
              "        [4, 5, 4],\n",
              "        [5, 5, 4]],\n",
              "\n",
              "       [[5, 5, 4],\n",
              "        [4, 5, 4],\n",
              "        [5, 4, 5]],\n",
              "\n",
              "       [[4, 5, 5],\n",
              "        [4, 4, 4],\n",
              "        [5, 5, 4]],\n",
              "\n",
              "       [[4, 4, 4],\n",
              "        [5, 4, 5],\n",
              "        [5, 4, 4]],\n",
              "\n",
              "       [[5, 5, 5],\n",
              "        [4, 4, 5],\n",
              "        [4, 5, 5]],\n",
              "\n",
              "       [[5, 4, 4],\n",
              "        [4, 4, 4],\n",
              "        [5, 5, 5]],\n",
              "\n",
              "       [[5, 5, 4],\n",
              "        [5, 5, 5],\n",
              "        [5, 4, 4]],\n",
              "\n",
              "       [[5, 5, 4],\n",
              "        [4, 5, 4],\n",
              "        [4, 4, 5]],\n",
              "\n",
              "       [[5, 4, 5],\n",
              "        [5, 5, 5],\n",
              "        [4, 4, 4]],\n",
              "\n",
              "       [[5, 5, 4],\n",
              "        [4, 5, 4],\n",
              "        [5, 4, 4]]])"
            ]
          },
          "metadata": {},
          "execution_count": 40
        }
      ],
      "source": [
        "X =  np.random.randint(4, 6, size=(n, 3, 3))\n",
        "print('Matrix:')\n",
        "print(X)\n",
        "print('Unique columns:')\n",
        "get_unique_columns(X)"
      ]
    },
    {
      "cell_type": "markdown",
      "metadata": {
        "id": "GUQSU6MQ0V9z"
      },
      "source": [
        "# 3. Pandas & Visualization (4 points)\n"
      ]
    },
    {
      "cell_type": "markdown",
      "metadata": {
        "id": "xDJFxPw00V9z"
      },
      "source": [
        "You are going to work with *Titanic* dataset which contains information about passengers of Titanic:\n",
        "- **Survived** - 1 - survived, 0 - died (0); **Target variable**\n",
        "- **pclass** - passengers's class;\n",
        "- **sex** - passengers's sex\n",
        "- **Age** - passengers's age in years\n",
        "- **sibsp**    - is the passenger someones siblings   \n",
        "- **parch**    - is the passenger someones child or parent\n",
        "- **ticket** - ticket number    \n",
        "- **fare** - ticket price    \n",
        "- **cabin** - cabin number\n",
        "- **embarked** - port of Embarkation; C = Cherbourg, Q = Queenstown, S = Southampton\n",
        "\n",
        "**Note** for all visualizations use matplotlib or seaborn but NOT plotly! Plotly's graphics sometimes vanish after saving. In this case the task wont't be graded.\n",
        "\n",
        "**Note** support all your answers with necessary code, computations, vizualization, and explanation. Answers without code and explanation won't be graded.\n",
        "\n",
        "**Task 0** (0 points) \\\n",
        "Load the dataset and print first 5 rows"
      ]
    },
    {
      "cell_type": "code",
      "execution_count": 42,
      "metadata": {
        "colab": {
          "base_uri": "https://localhost:8080/",
          "height": 307
        },
        "id": "idVYXyEO0V9z",
        "outputId": "1c2cf3a8-0fce-448b-e3ec-51666ebf8edc"
      },
      "outputs": [
        {
          "output_type": "execute_result",
          "data": {
            "text/plain": [
              "             Survived  Pclass  \\\n",
              "PassengerId                     \n",
              "1                   0       3   \n",
              "2                   1       1   \n",
              "3                   1       3   \n",
              "4                   1       1   \n",
              "5                   0       3   \n",
              "\n",
              "                                                          Name     Sex   Age  \\\n",
              "PassengerId                                                                    \n",
              "1                                      Braund, Mr. Owen Harris    male  22.0   \n",
              "2            Cumings, Mrs. John Bradley (Florence Briggs Th...  female  38.0   \n",
              "3                                       Heikkinen, Miss. Laina  female  26.0   \n",
              "4                 Futrelle, Mrs. Jacques Heath (Lily May Peel)  female  35.0   \n",
              "5                                     Allen, Mr. William Henry    male  35.0   \n",
              "\n",
              "             SibSp  Parch            Ticket     Fare Cabin Embarked  \n",
              "PassengerId                                                          \n",
              "1                1      0         A/5 21171   7.2500   NaN        S  \n",
              "2                1      0          PC 17599  71.2833   C85        C  \n",
              "3                0      0  STON/O2. 3101282   7.9250   NaN        S  \n",
              "4                1      0            113803  53.1000  C123        S  \n",
              "5                0      0            373450   8.0500   NaN        S  "
            ],
            "text/html": [
              "\n",
              "  <div id=\"df-ec18aa9e-9ab9-42ed-8ede-97dac4aca584\" class=\"colab-df-container\">\n",
              "    <div>\n",
              "<style scoped>\n",
              "    .dataframe tbody tr th:only-of-type {\n",
              "        vertical-align: middle;\n",
              "    }\n",
              "\n",
              "    .dataframe tbody tr th {\n",
              "        vertical-align: top;\n",
              "    }\n",
              "\n",
              "    .dataframe thead th {\n",
              "        text-align: right;\n",
              "    }\n",
              "</style>\n",
              "<table border=\"1\" class=\"dataframe\">\n",
              "  <thead>\n",
              "    <tr style=\"text-align: right;\">\n",
              "      <th></th>\n",
              "      <th>Survived</th>\n",
              "      <th>Pclass</th>\n",
              "      <th>Name</th>\n",
              "      <th>Sex</th>\n",
              "      <th>Age</th>\n",
              "      <th>SibSp</th>\n",
              "      <th>Parch</th>\n",
              "      <th>Ticket</th>\n",
              "      <th>Fare</th>\n",
              "      <th>Cabin</th>\n",
              "      <th>Embarked</th>\n",
              "    </tr>\n",
              "    <tr>\n",
              "      <th>PassengerId</th>\n",
              "      <th></th>\n",
              "      <th></th>\n",
              "      <th></th>\n",
              "      <th></th>\n",
              "      <th></th>\n",
              "      <th></th>\n",
              "      <th></th>\n",
              "      <th></th>\n",
              "      <th></th>\n",
              "      <th></th>\n",
              "      <th></th>\n",
              "    </tr>\n",
              "  </thead>\n",
              "  <tbody>\n",
              "    <tr>\n",
              "      <th>1</th>\n",
              "      <td>0</td>\n",
              "      <td>3</td>\n",
              "      <td>Braund, Mr. Owen Harris</td>\n",
              "      <td>male</td>\n",
              "      <td>22.0</td>\n",
              "      <td>1</td>\n",
              "      <td>0</td>\n",
              "      <td>A/5 21171</td>\n",
              "      <td>7.2500</td>\n",
              "      <td>NaN</td>\n",
              "      <td>S</td>\n",
              "    </tr>\n",
              "    <tr>\n",
              "      <th>2</th>\n",
              "      <td>1</td>\n",
              "      <td>1</td>\n",
              "      <td>Cumings, Mrs. John Bradley (Florence Briggs Th...</td>\n",
              "      <td>female</td>\n",
              "      <td>38.0</td>\n",
              "      <td>1</td>\n",
              "      <td>0</td>\n",
              "      <td>PC 17599</td>\n",
              "      <td>71.2833</td>\n",
              "      <td>C85</td>\n",
              "      <td>C</td>\n",
              "    </tr>\n",
              "    <tr>\n",
              "      <th>3</th>\n",
              "      <td>1</td>\n",
              "      <td>3</td>\n",
              "      <td>Heikkinen, Miss. Laina</td>\n",
              "      <td>female</td>\n",
              "      <td>26.0</td>\n",
              "      <td>0</td>\n",
              "      <td>0</td>\n",
              "      <td>STON/O2. 3101282</td>\n",
              "      <td>7.9250</td>\n",
              "      <td>NaN</td>\n",
              "      <td>S</td>\n",
              "    </tr>\n",
              "    <tr>\n",
              "      <th>4</th>\n",
              "      <td>1</td>\n",
              "      <td>1</td>\n",
              "      <td>Futrelle, Mrs. Jacques Heath (Lily May Peel)</td>\n",
              "      <td>female</td>\n",
              "      <td>35.0</td>\n",
              "      <td>1</td>\n",
              "      <td>0</td>\n",
              "      <td>113803</td>\n",
              "      <td>53.1000</td>\n",
              "      <td>C123</td>\n",
              "      <td>S</td>\n",
              "    </tr>\n",
              "    <tr>\n",
              "      <th>5</th>\n",
              "      <td>0</td>\n",
              "      <td>3</td>\n",
              "      <td>Allen, Mr. William Henry</td>\n",
              "      <td>male</td>\n",
              "      <td>35.0</td>\n",
              "      <td>0</td>\n",
              "      <td>0</td>\n",
              "      <td>373450</td>\n",
              "      <td>8.0500</td>\n",
              "      <td>NaN</td>\n",
              "      <td>S</td>\n",
              "    </tr>\n",
              "  </tbody>\n",
              "</table>\n",
              "</div>\n",
              "    <div class=\"colab-df-buttons\">\n",
              "\n",
              "  <div class=\"colab-df-container\">\n",
              "    <button class=\"colab-df-convert\" onclick=\"convertToInteractive('df-ec18aa9e-9ab9-42ed-8ede-97dac4aca584')\"\n",
              "            title=\"Convert this dataframe to an interactive table.\"\n",
              "            style=\"display:none;\">\n",
              "\n",
              "  <svg xmlns=\"http://www.w3.org/2000/svg\" height=\"24px\" viewBox=\"0 -960 960 960\">\n",
              "    <path d=\"M120-120v-720h720v720H120Zm60-500h600v-160H180v160Zm220 220h160v-160H400v160Zm0 220h160v-160H400v160ZM180-400h160v-160H180v160Zm440 0h160v-160H620v160ZM180-180h160v-160H180v160Zm440 0h160v-160H620v160Z\"/>\n",
              "  </svg>\n",
              "    </button>\n",
              "\n",
              "  <style>\n",
              "    .colab-df-container {\n",
              "      display:flex;\n",
              "      gap: 12px;\n",
              "    }\n",
              "\n",
              "    .colab-df-convert {\n",
              "      background-color: #E8F0FE;\n",
              "      border: none;\n",
              "      border-radius: 50%;\n",
              "      cursor: pointer;\n",
              "      display: none;\n",
              "      fill: #1967D2;\n",
              "      height: 32px;\n",
              "      padding: 0 0 0 0;\n",
              "      width: 32px;\n",
              "    }\n",
              "\n",
              "    .colab-df-convert:hover {\n",
              "      background-color: #E2EBFA;\n",
              "      box-shadow: 0px 1px 2px rgba(60, 64, 67, 0.3), 0px 1px 3px 1px rgba(60, 64, 67, 0.15);\n",
              "      fill: #174EA6;\n",
              "    }\n",
              "\n",
              "    .colab-df-buttons div {\n",
              "      margin-bottom: 4px;\n",
              "    }\n",
              "\n",
              "    [theme=dark] .colab-df-convert {\n",
              "      background-color: #3B4455;\n",
              "      fill: #D2E3FC;\n",
              "    }\n",
              "\n",
              "    [theme=dark] .colab-df-convert:hover {\n",
              "      background-color: #434B5C;\n",
              "      box-shadow: 0px 1px 3px 1px rgba(0, 0, 0, 0.15);\n",
              "      filter: drop-shadow(0px 1px 2px rgba(0, 0, 0, 0.3));\n",
              "      fill: #FFFFFF;\n",
              "    }\n",
              "  </style>\n",
              "\n",
              "    <script>\n",
              "      const buttonEl =\n",
              "        document.querySelector('#df-ec18aa9e-9ab9-42ed-8ede-97dac4aca584 button.colab-df-convert');\n",
              "      buttonEl.style.display =\n",
              "        google.colab.kernel.accessAllowed ? 'block' : 'none';\n",
              "\n",
              "      async function convertToInteractive(key) {\n",
              "        const element = document.querySelector('#df-ec18aa9e-9ab9-42ed-8ede-97dac4aca584');\n",
              "        const dataTable =\n",
              "          await google.colab.kernel.invokeFunction('convertToInteractive',\n",
              "                                                    [key], {});\n",
              "        if (!dataTable) return;\n",
              "\n",
              "        const docLinkHtml = 'Like what you see? Visit the ' +\n",
              "          '<a target=\"_blank\" href=https://colab.research.google.com/notebooks/data_table.ipynb>data table notebook</a>'\n",
              "          + ' to learn more about interactive tables.';\n",
              "        element.innerHTML = '';\n",
              "        dataTable['output_type'] = 'display_data';\n",
              "        await google.colab.output.renderOutput(dataTable, element);\n",
              "        const docLink = document.createElement('div');\n",
              "        docLink.innerHTML = docLinkHtml;\n",
              "        element.appendChild(docLink);\n",
              "      }\n",
              "    </script>\n",
              "  </div>\n",
              "\n",
              "\n",
              "    <div id=\"df-10445c95-fcb0-4f50-8715-a9c54995a26c\">\n",
              "      <button class=\"colab-df-quickchart\" onclick=\"quickchart('df-10445c95-fcb0-4f50-8715-a9c54995a26c')\"\n",
              "                title=\"Suggest charts\"\n",
              "                style=\"display:none;\">\n",
              "\n",
              "<svg xmlns=\"http://www.w3.org/2000/svg\" height=\"24px\"viewBox=\"0 0 24 24\"\n",
              "     width=\"24px\">\n",
              "    <g>\n",
              "        <path d=\"M19 3H5c-1.1 0-2 .9-2 2v14c0 1.1.9 2 2 2h14c1.1 0 2-.9 2-2V5c0-1.1-.9-2-2-2zM9 17H7v-7h2v7zm4 0h-2V7h2v10zm4 0h-2v-4h2v4z\"/>\n",
              "    </g>\n",
              "</svg>\n",
              "      </button>\n",
              "\n",
              "<style>\n",
              "  .colab-df-quickchart {\n",
              "      --bg-color: #E8F0FE;\n",
              "      --fill-color: #1967D2;\n",
              "      --hover-bg-color: #E2EBFA;\n",
              "      --hover-fill-color: #174EA6;\n",
              "      --disabled-fill-color: #AAA;\n",
              "      --disabled-bg-color: #DDD;\n",
              "  }\n",
              "\n",
              "  [theme=dark] .colab-df-quickchart {\n",
              "      --bg-color: #3B4455;\n",
              "      --fill-color: #D2E3FC;\n",
              "      --hover-bg-color: #434B5C;\n",
              "      --hover-fill-color: #FFFFFF;\n",
              "      --disabled-bg-color: #3B4455;\n",
              "      --disabled-fill-color: #666;\n",
              "  }\n",
              "\n",
              "  .colab-df-quickchart {\n",
              "    background-color: var(--bg-color);\n",
              "    border: none;\n",
              "    border-radius: 50%;\n",
              "    cursor: pointer;\n",
              "    display: none;\n",
              "    fill: var(--fill-color);\n",
              "    height: 32px;\n",
              "    padding: 0;\n",
              "    width: 32px;\n",
              "  }\n",
              "\n",
              "  .colab-df-quickchart:hover {\n",
              "    background-color: var(--hover-bg-color);\n",
              "    box-shadow: 0 1px 2px rgba(60, 64, 67, 0.3), 0 1px 3px 1px rgba(60, 64, 67, 0.15);\n",
              "    fill: var(--button-hover-fill-color);\n",
              "  }\n",
              "\n",
              "  .colab-df-quickchart-complete:disabled,\n",
              "  .colab-df-quickchart-complete:disabled:hover {\n",
              "    background-color: var(--disabled-bg-color);\n",
              "    fill: var(--disabled-fill-color);\n",
              "    box-shadow: none;\n",
              "  }\n",
              "\n",
              "  .colab-df-spinner {\n",
              "    border: 2px solid var(--fill-color);\n",
              "    border-color: transparent;\n",
              "    border-bottom-color: var(--fill-color);\n",
              "    animation:\n",
              "      spin 1s steps(1) infinite;\n",
              "  }\n",
              "\n",
              "  @keyframes spin {\n",
              "    0% {\n",
              "      border-color: transparent;\n",
              "      border-bottom-color: var(--fill-color);\n",
              "      border-left-color: var(--fill-color);\n",
              "    }\n",
              "    20% {\n",
              "      border-color: transparent;\n",
              "      border-left-color: var(--fill-color);\n",
              "      border-top-color: var(--fill-color);\n",
              "    }\n",
              "    30% {\n",
              "      border-color: transparent;\n",
              "      border-left-color: var(--fill-color);\n",
              "      border-top-color: var(--fill-color);\n",
              "      border-right-color: var(--fill-color);\n",
              "    }\n",
              "    40% {\n",
              "      border-color: transparent;\n",
              "      border-right-color: var(--fill-color);\n",
              "      border-top-color: var(--fill-color);\n",
              "    }\n",
              "    60% {\n",
              "      border-color: transparent;\n",
              "      border-right-color: var(--fill-color);\n",
              "    }\n",
              "    80% {\n",
              "      border-color: transparent;\n",
              "      border-right-color: var(--fill-color);\n",
              "      border-bottom-color: var(--fill-color);\n",
              "    }\n",
              "    90% {\n",
              "      border-color: transparent;\n",
              "      border-bottom-color: var(--fill-color);\n",
              "    }\n",
              "  }\n",
              "</style>\n",
              "\n",
              "      <script>\n",
              "        async function quickchart(key) {\n",
              "          const quickchartButtonEl =\n",
              "            document.querySelector('#' + key + ' button');\n",
              "          quickchartButtonEl.disabled = true;  // To prevent multiple clicks.\n",
              "          quickchartButtonEl.classList.add('colab-df-spinner');\n",
              "          try {\n",
              "            const charts = await google.colab.kernel.invokeFunction(\n",
              "                'suggestCharts', [key], {});\n",
              "          } catch (error) {\n",
              "            console.error('Error during call to suggestCharts:', error);\n",
              "          }\n",
              "          quickchartButtonEl.classList.remove('colab-df-spinner');\n",
              "          quickchartButtonEl.classList.add('colab-df-quickchart-complete');\n",
              "        }\n",
              "        (() => {\n",
              "          let quickchartButtonEl =\n",
              "            document.querySelector('#df-10445c95-fcb0-4f50-8715-a9c54995a26c button');\n",
              "          quickchartButtonEl.style.display =\n",
              "            google.colab.kernel.accessAllowed ? 'block' : 'none';\n",
              "        })();\n",
              "      </script>\n",
              "    </div>\n",
              "    </div>\n",
              "  </div>\n"
            ],
            "application/vnd.google.colaboratory.intrinsic+json": {
              "type": "dataframe",
              "variable_name": "data",
              "summary": "{\n  \"name\": \"data\",\n  \"rows\": 891,\n  \"fields\": [\n    {\n      \"column\": \"PassengerId\",\n      \"properties\": {\n        \"dtype\": \"number\",\n        \"std\": 257,\n        \"min\": 1,\n        \"max\": 891,\n        \"num_unique_values\": 891,\n        \"samples\": [\n          710,\n          440,\n          841\n        ],\n        \"semantic_type\": \"\",\n        \"description\": \"\"\n      }\n    },\n    {\n      \"column\": \"Survived\",\n      \"properties\": {\n        \"dtype\": \"number\",\n        \"std\": 0,\n        \"min\": 0,\n        \"max\": 1,\n        \"num_unique_values\": 2,\n        \"samples\": [\n          1,\n          0\n        ],\n        \"semantic_type\": \"\",\n        \"description\": \"\"\n      }\n    },\n    {\n      \"column\": \"Pclass\",\n      \"properties\": {\n        \"dtype\": \"number\",\n        \"std\": 0,\n        \"min\": 1,\n        \"max\": 3,\n        \"num_unique_values\": 3,\n        \"samples\": [\n          3,\n          1\n        ],\n        \"semantic_type\": \"\",\n        \"description\": \"\"\n      }\n    },\n    {\n      \"column\": \"Name\",\n      \"properties\": {\n        \"dtype\": \"string\",\n        \"num_unique_values\": 891,\n        \"samples\": [\n          \"Moubarek, Master. Halim Gonios (\\\"William George\\\")\",\n          \"Kvillner, Mr. Johan Henrik Johannesson\"\n        ],\n        \"semantic_type\": \"\",\n        \"description\": \"\"\n      }\n    },\n    {\n      \"column\": \"Sex\",\n      \"properties\": {\n        \"dtype\": \"category\",\n        \"num_unique_values\": 2,\n        \"samples\": [\n          \"female\",\n          \"male\"\n        ],\n        \"semantic_type\": \"\",\n        \"description\": \"\"\n      }\n    },\n    {\n      \"column\": \"Age\",\n      \"properties\": {\n        \"dtype\": \"number\",\n        \"std\": 14.526497332334044,\n        \"min\": 0.42,\n        \"max\": 80.0,\n        \"num_unique_values\": 88,\n        \"samples\": [\n          0.75,\n          22.0\n        ],\n        \"semantic_type\": \"\",\n        \"description\": \"\"\n      }\n    },\n    {\n      \"column\": \"SibSp\",\n      \"properties\": {\n        \"dtype\": \"number\",\n        \"std\": 1,\n        \"min\": 0,\n        \"max\": 8,\n        \"num_unique_values\": 7,\n        \"samples\": [\n          1,\n          0\n        ],\n        \"semantic_type\": \"\",\n        \"description\": \"\"\n      }\n    },\n    {\n      \"column\": \"Parch\",\n      \"properties\": {\n        \"dtype\": \"number\",\n        \"std\": 0,\n        \"min\": 0,\n        \"max\": 6,\n        \"num_unique_values\": 7,\n        \"samples\": [\n          0,\n          1\n        ],\n        \"semantic_type\": \"\",\n        \"description\": \"\"\n      }\n    },\n    {\n      \"column\": \"Ticket\",\n      \"properties\": {\n        \"dtype\": \"string\",\n        \"num_unique_values\": 681,\n        \"samples\": [\n          \"11774\",\n          \"248740\"\n        ],\n        \"semantic_type\": \"\",\n        \"description\": \"\"\n      }\n    },\n    {\n      \"column\": \"Fare\",\n      \"properties\": {\n        \"dtype\": \"number\",\n        \"std\": 49.693428597180905,\n        \"min\": 0.0,\n        \"max\": 512.3292,\n        \"num_unique_values\": 248,\n        \"samples\": [\n          11.2417,\n          51.8625\n        ],\n        \"semantic_type\": \"\",\n        \"description\": \"\"\n      }\n    },\n    {\n      \"column\": \"Cabin\",\n      \"properties\": {\n        \"dtype\": \"category\",\n        \"num_unique_values\": 147,\n        \"samples\": [\n          \"D45\",\n          \"B49\"\n        ],\n        \"semantic_type\": \"\",\n        \"description\": \"\"\n      }\n    },\n    {\n      \"column\": \"Embarked\",\n      \"properties\": {\n        \"dtype\": \"category\",\n        \"num_unique_values\": 3,\n        \"samples\": [\n          \"S\",\n          \"C\"\n        ],\n        \"semantic_type\": \"\",\n        \"description\": \"\"\n      }\n    }\n  ]\n}"
            }
          },
          "metadata": {},
          "execution_count": 42
        }
      ],
      "source": [
        "data = pd.read_csv(\"titanic.csv\", index_col=0)\n",
        "data.head()"
      ]
    },
    {
      "cell_type": "markdown",
      "metadata": {
        "id": "yTGzA3-Q0V9z"
      },
      "source": [
        "**Task 1** (1 points) <br/>\n",
        "Answer the following questions:\n",
        "    \n",
        "    * Are there any missing values? In what columns?\n",
        "    * What is the percentage of survived passengers? Are the classes balanced?\n",
        "    * Were there more males or females?\n",
        "    * What what the least popular port of embarkation?\n",
        "    * How many classes (pclass) were there on Tinanic?\n",
        "    * What is the overall average ticket fare? And for every class?\n",
        "Please, write not only the answers but the code, proving it."
      ]
    },
    {
      "cell_type": "code",
      "execution_count": 51,
      "metadata": {
        "colab": {
          "base_uri": "https://localhost:8080/",
          "height": 429
        },
        "id": "35lha2oA0V9z",
        "outputId": "a4713c44-796e-4496-91be-e654c2fb5880"
      },
      "outputs": [
        {
          "output_type": "execute_result",
          "data": {
            "text/plain": [
              "Survived      0\n",
              "Pclass        0\n",
              "Name          0\n",
              "Sex           0\n",
              "Age         177\n",
              "SibSp         0\n",
              "Parch         0\n",
              "Ticket        0\n",
              "Fare          0\n",
              "Cabin       687\n",
              "Embarked      2\n",
              "dtype: int64"
            ],
            "text/html": [
              "<div>\n",
              "<style scoped>\n",
              "    .dataframe tbody tr th:only-of-type {\n",
              "        vertical-align: middle;\n",
              "    }\n",
              "\n",
              "    .dataframe tbody tr th {\n",
              "        vertical-align: top;\n",
              "    }\n",
              "\n",
              "    .dataframe thead th {\n",
              "        text-align: right;\n",
              "    }\n",
              "</style>\n",
              "<table border=\"1\" class=\"dataframe\">\n",
              "  <thead>\n",
              "    <tr style=\"text-align: right;\">\n",
              "      <th></th>\n",
              "      <th>0</th>\n",
              "    </tr>\n",
              "  </thead>\n",
              "  <tbody>\n",
              "    <tr>\n",
              "      <th>Survived</th>\n",
              "      <td>0</td>\n",
              "    </tr>\n",
              "    <tr>\n",
              "      <th>Pclass</th>\n",
              "      <td>0</td>\n",
              "    </tr>\n",
              "    <tr>\n",
              "      <th>Name</th>\n",
              "      <td>0</td>\n",
              "    </tr>\n",
              "    <tr>\n",
              "      <th>Sex</th>\n",
              "      <td>0</td>\n",
              "    </tr>\n",
              "    <tr>\n",
              "      <th>Age</th>\n",
              "      <td>177</td>\n",
              "    </tr>\n",
              "    <tr>\n",
              "      <th>SibSp</th>\n",
              "      <td>0</td>\n",
              "    </tr>\n",
              "    <tr>\n",
              "      <th>Parch</th>\n",
              "      <td>0</td>\n",
              "    </tr>\n",
              "    <tr>\n",
              "      <th>Ticket</th>\n",
              "      <td>0</td>\n",
              "    </tr>\n",
              "    <tr>\n",
              "      <th>Fare</th>\n",
              "      <td>0</td>\n",
              "    </tr>\n",
              "    <tr>\n",
              "      <th>Cabin</th>\n",
              "      <td>687</td>\n",
              "    </tr>\n",
              "    <tr>\n",
              "      <th>Embarked</th>\n",
              "      <td>2</td>\n",
              "    </tr>\n",
              "  </tbody>\n",
              "</table>\n",
              "</div><br><label><b>dtype:</b> int64</label>"
            ]
          },
          "metadata": {},
          "execution_count": 51
        }
      ],
      "source": [
        "# * Are there any missing values? In what columns?\n",
        "data.isna().sum()\n",
        "\n",
        "# Asnwer: yes, columns Age, Cabin, Embarked"
      ]
    },
    {
      "cell_type": "code",
      "source": [
        "# * What is the percentage of survived passengers? Are the classes balanced?\n",
        "print(data['Survived'].sum() / data.shape[0])\n",
        "\n",
        "data.groupby(['Pclass']).Survived.sum() / data.Survived.sum()\n",
        "\n",
        "# Asnwer: 38%\n",
        "# The percentages are a bit different, but not too much"
      ],
      "metadata": {
        "id": "BjcSQj3d-o6H",
        "outputId": "09073e2f-06c1-44de-b933-20c6194a3d63",
        "colab": {
          "base_uri": "https://localhost:8080/",
          "height": 227
        }
      },
      "execution_count": 57,
      "outputs": [
        {
          "output_type": "stream",
          "name": "stdout",
          "text": [
            "0.3838383838383838\n"
          ]
        },
        {
          "output_type": "execute_result",
          "data": {
            "text/plain": [
              "Pclass\n",
              "1    0.397661\n",
              "2    0.254386\n",
              "3    0.347953\n",
              "Name: Survived, dtype: float64"
            ],
            "text/html": [
              "<div>\n",
              "<style scoped>\n",
              "    .dataframe tbody tr th:only-of-type {\n",
              "        vertical-align: middle;\n",
              "    }\n",
              "\n",
              "    .dataframe tbody tr th {\n",
              "        vertical-align: top;\n",
              "    }\n",
              "\n",
              "    .dataframe thead th {\n",
              "        text-align: right;\n",
              "    }\n",
              "</style>\n",
              "<table border=\"1\" class=\"dataframe\">\n",
              "  <thead>\n",
              "    <tr style=\"text-align: right;\">\n",
              "      <th></th>\n",
              "      <th>Survived</th>\n",
              "    </tr>\n",
              "    <tr>\n",
              "      <th>Pclass</th>\n",
              "      <th></th>\n",
              "    </tr>\n",
              "  </thead>\n",
              "  <tbody>\n",
              "    <tr>\n",
              "      <th>1</th>\n",
              "      <td>0.397661</td>\n",
              "    </tr>\n",
              "    <tr>\n",
              "      <th>2</th>\n",
              "      <td>0.254386</td>\n",
              "    </tr>\n",
              "    <tr>\n",
              "      <th>3</th>\n",
              "      <td>0.347953</td>\n",
              "    </tr>\n",
              "  </tbody>\n",
              "</table>\n",
              "</div><br><label><b>dtype:</b> float64</label>"
            ]
          },
          "metadata": {},
          "execution_count": 57
        }
      ]
    },
    {
      "cell_type": "code",
      "source": [
        "# * Were there more males or females?\n",
        "males = data.Sex[data.Sex == 'male'].shape[0]\n",
        "females = data.shape[0] - males\n",
        "print('males: ', males)\n",
        "print('females: ', females)\n",
        "\n",
        "# Asnwer: More males"
      ],
      "metadata": {
        "id": "8kBO_Z0qBs_n",
        "outputId": "d4ad8d96-db33-432d-cf0e-ca918c9335fc",
        "colab": {
          "base_uri": "https://localhost:8080/"
        }
      },
      "execution_count": 65,
      "outputs": [
        {
          "output_type": "stream",
          "name": "stdout",
          "text": [
            "males:  577\n",
            "females:  314\n"
          ]
        }
      ]
    },
    {
      "cell_type": "code",
      "source": [
        "# * What what the least popular port of embarkation?\n",
        "data.Embarked.value_counts(sort=True, ascending=True).index[0]\n",
        "\n",
        "# Asnwer: Q = Queenstown"
      ],
      "metadata": {
        "id": "B5_GHAsOClEE",
        "outputId": "5a320492-a2e8-4c1c-bc74-e87aa37ca8e8",
        "colab": {
          "base_uri": "https://localhost:8080/",
          "height": 35
        }
      },
      "execution_count": 82,
      "outputs": [
        {
          "output_type": "execute_result",
          "data": {
            "text/plain": [
              "'Q'"
            ],
            "application/vnd.google.colaboratory.intrinsic+json": {
              "type": "string"
            }
          },
          "metadata": {},
          "execution_count": 82
        }
      ]
    },
    {
      "cell_type": "code",
      "source": [
        "# * How many classes (pclass) were there on Tinanic?\n",
        "data.Pclass.unique().shape[0]\n",
        "\n",
        "# Asnwer: 3"
      ],
      "metadata": {
        "id": "SI-9JPYGFUgc",
        "outputId": "cb94b8c3-2ac6-48e4-8e97-7107e6f1af3b",
        "colab": {
          "base_uri": "https://localhost:8080/"
        }
      },
      "execution_count": 85,
      "outputs": [
        {
          "output_type": "execute_result",
          "data": {
            "text/plain": [
              "3"
            ]
          },
          "metadata": {},
          "execution_count": 85
        }
      ]
    },
    {
      "cell_type": "code",
      "source": [
        "# * What is the overall average ticket fare? And for every class?\n",
        "\n",
        "print('overall: ', data.Fare.sum() / data.shape[0])\n",
        "\n",
        "data.groupby(['Pclass']).Fare.mean()\n",
        "\n",
        "# Asnwer: $32\n",
        "# Class 1 - $84\n",
        "# Class 2 - $20\n",
        "# Class 3 - $13"
      ],
      "metadata": {
        "id": "Qn0nqPhBFzQ3",
        "outputId": "8e184efa-524e-46ec-ef99-a813e8802137",
        "colab": {
          "base_uri": "https://localhost:8080/",
          "height": 227
        }
      },
      "execution_count": 89,
      "outputs": [
        {
          "output_type": "stream",
          "name": "stdout",
          "text": [
            "overall:  32.204207968574636\n"
          ]
        },
        {
          "output_type": "execute_result",
          "data": {
            "text/plain": [
              "Pclass\n",
              "1    84.154687\n",
              "2    20.662183\n",
              "3    13.675550\n",
              "Name: Fare, dtype: float64"
            ],
            "text/html": [
              "<div>\n",
              "<style scoped>\n",
              "    .dataframe tbody tr th:only-of-type {\n",
              "        vertical-align: middle;\n",
              "    }\n",
              "\n",
              "    .dataframe tbody tr th {\n",
              "        vertical-align: top;\n",
              "    }\n",
              "\n",
              "    .dataframe thead th {\n",
              "        text-align: right;\n",
              "    }\n",
              "</style>\n",
              "<table border=\"1\" class=\"dataframe\">\n",
              "  <thead>\n",
              "    <tr style=\"text-align: right;\">\n",
              "      <th></th>\n",
              "      <th>Fare</th>\n",
              "    </tr>\n",
              "    <tr>\n",
              "      <th>Pclass</th>\n",
              "      <th></th>\n",
              "    </tr>\n",
              "  </thead>\n",
              "  <tbody>\n",
              "    <tr>\n",
              "      <th>1</th>\n",
              "      <td>84.154687</td>\n",
              "    </tr>\n",
              "    <tr>\n",
              "      <th>2</th>\n",
              "      <td>20.662183</td>\n",
              "    </tr>\n",
              "    <tr>\n",
              "      <th>3</th>\n",
              "      <td>13.675550</td>\n",
              "    </tr>\n",
              "  </tbody>\n",
              "</table>\n",
              "</div><br><label><b>dtype:</b> float64</label>"
            ]
          },
          "metadata": {},
          "execution_count": 89
        }
      ]
    },
    {
      "cell_type": "markdown",
      "metadata": {
        "id": "0wo9cdrE0V9z"
      },
      "source": [
        "**Task 2** (0.5 points) <br/>\n",
        "Visualize age distribution (you may use a histogram, for example).\n",
        "\n",
        "    * What is the minimal and maximum ages of the passengers? Visualize it on the plot\n",
        "    * What is the mean age? And among males and females sepatately? Visualize it on the plot\n",
        "    * Make conclusions about what you see on the plot"
      ]
    },
    {
      "cell_type": "code",
      "execution_count": null,
      "metadata": {
        "id": "o7h3YZhV0V94"
      },
      "outputs": [],
      "source": [
        "## Your code here"
      ]
    },
    {
      "cell_type": "markdown",
      "metadata": {
        "id": "CI0Jvjzq0V94"
      },
      "source": [
        "**Task 3** (1 points) <br/>\n",
        "Find all the titles of the passengers (example, *Capt., Mr.,Mme.*), which are written in the column Name, and answer the following questions:\n",
        "\n",
        "    * How many are there unique titles?\n",
        "    * How many are there passengers with every title?\n",
        "    * What is the most popular man's title? And woman's title?\n",
        "    \n",
        "**Hint** You may select the title from the name as a word which contains a dot."
      ]
    },
    {
      "cell_type": "code",
      "execution_count": null,
      "metadata": {
        "id": "YjDOiMa20V94"
      },
      "outputs": [],
      "source": [
        "## Your code here"
      ]
    },
    {
      "cell_type": "markdown",
      "metadata": {
        "id": "gg87lOKr0V94"
      },
      "source": [
        "**Task 4** (0.5 points) <br/>\n",
        "Is there correlation between *pclass* and *ticket price*? Calculate mean price for each port and visualize prize distribution for each port. Make conclusions about what you see on the plot\n",
        "\n",
        "Hint: you could make one or several plot types i.e.  box, violine, pair, histogram (see additional notebooks for Seminar 1 \"Visualization with Seaborn\"). main point here is to **choose** plots wisely and **make meaningful conclusions**\n",
        "\n"
      ]
    },
    {
      "cell_type": "code",
      "execution_count": null,
      "metadata": {
        "id": "KT3Ri5QR0V94"
      },
      "outputs": [],
      "source": [
        "## You code here"
      ]
    },
    {
      "cell_type": "markdown",
      "metadata": {
        "id": "VigiOrVf0V94"
      },
      "source": [
        "**Task 5** (0.5 points) <br/>\n",
        "The same question as in task 4 about correlation between *embarked* and *ticket priсe*."
      ]
    },
    {
      "cell_type": "code",
      "execution_count": null,
      "metadata": {
        "id": "-ldYmMEP0V95"
      },
      "outputs": [],
      "source": [
        "## You code here"
      ]
    },
    {
      "cell_type": "markdown",
      "metadata": {
        "id": "OcR-Arvd0V95"
      },
      "source": [
        "**Task 6** (0.5 points) <br/>\n",
        "Visualize age distribution for survived and not survived passengers separately and calculate the mean age for each class. Are they different? Provide the same visualization for males and females separately. Make conclusions about what you see on the plots"
      ]
    },
    {
      "cell_type": "code",
      "execution_count": null,
      "metadata": {
        "id": "AhDbPcYJ0V95"
      },
      "outputs": [],
      "source": [
        "## You code here"
      ]
    }
  ],
  "metadata": {
    "kernelspec": {
      "display_name": "Python 3 (ipykernel)",
      "language": "python",
      "name": "python3"
    },
    "language_info": {
      "codemirror_mode": {
        "name": "ipython",
        "version": 3
      },
      "file_extension": ".py",
      "mimetype": "text/x-python",
      "name": "python",
      "nbconvert_exporter": "python",
      "pygments_lexer": "ipython3",
      "version": "3.9.7"
    },
    "colab": {
      "provenance": []
    }
  },
  "nbformat": 4,
  "nbformat_minor": 0
}